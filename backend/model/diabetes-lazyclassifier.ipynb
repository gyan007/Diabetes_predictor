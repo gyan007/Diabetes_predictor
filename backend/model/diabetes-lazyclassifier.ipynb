{
 "cells": [
  {
   "cell_type": "markdown",
   "id": "cdaa0120",
   "metadata": {
    "papermill": {
     "duration": 0.006112,
     "end_time": "2024-04-12T22:08:20.006546",
     "exception": false,
     "start_time": "2024-04-12T22:08:20.000434",
     "status": "completed"
    },
    "tags": []
   },
   "source": [
    "# install lazypridict"
   ]
  },
  {
   "cell_type": "code",
   "execution_count": 1,
   "id": "9c56acd2",
   "metadata": {
    "papermill": {
     "duration": 17.215121,
     "end_time": "2024-04-12T22:08:37.227668",
     "exception": false,
     "start_time": "2024-04-12T22:08:20.012547",
     "status": "completed"
    },
    "tags": []
   },
   "outputs": [
    {
     "name": "stdout",
     "output_type": "stream",
     "text": [
      "Requirement already satisfied: lazypredict in c:\\users\\gyant\\appdata\\local\\programs\\python\\python39\\lib\\site-packages (0.2.16)\n",
      "Requirement already satisfied: click in c:\\users\\gyant\\appdata\\local\\programs\\python\\python39\\lib\\site-packages (from lazypredict) (8.1.8)\n",
      "Requirement already satisfied: scikit-learn in c:\\users\\gyant\\appdata\\local\\programs\\python\\python39\\lib\\site-packages (from lazypredict) (1.6.1)\n",
      "Requirement already satisfied: pandas in c:\\users\\gyant\\appdata\\local\\programs\\python\\python39\\lib\\site-packages (from lazypredict) (2.3.0)\n",
      "Requirement already satisfied: tqdm in c:\\users\\gyant\\appdata\\local\\programs\\python\\python39\\lib\\site-packages (from lazypredict) (4.67.1)\n",
      "Requirement already satisfied: joblib in c:\\users\\gyant\\appdata\\local\\programs\\python\\python39\\lib\\site-packages (from lazypredict) (1.5.1)\n",
      "Requirement already satisfied: lightgbm in c:\\users\\gyant\\appdata\\local\\programs\\python\\python39\\lib\\site-packages (from lazypredict) (4.6.0)\n",
      "Requirement already satisfied: xgboost in c:\\users\\gyant\\appdata\\local\\programs\\python\\python39\\lib\\site-packages (from lazypredict) (2.1.4)\n",
      "Requirement already satisfied: pytest-runner in c:\\users\\gyant\\appdata\\local\\programs\\python\\python39\\lib\\site-packages (from lazypredict) (6.0.1)\n",
      "Requirement already satisfied: mlflow>=2.0.0 in c:\\users\\gyant\\appdata\\local\\programs\\python\\python39\\lib\\site-packages (from lazypredict) (3.1.4)\n",
      "Requirement already satisfied: mlflow-skinny==3.1.4 in c:\\users\\gyant\\appdata\\local\\programs\\python\\python39\\lib\\site-packages (from mlflow>=2.0.0->lazypredict) (3.1.4)\n",
      "Requirement already satisfied: Flask<4 in c:\\users\\gyant\\appdata\\local\\programs\\python\\python39\\lib\\site-packages (from mlflow>=2.0.0->lazypredict) (3.1.1)\n",
      "Requirement already satisfied: alembic!=1.10.0,<2 in c:\\users\\gyant\\appdata\\local\\programs\\python\\python39\\lib\\site-packages (from mlflow>=2.0.0->lazypredict) (1.16.4)\n",
      "Requirement already satisfied: docker<8,>=4.0.0 in c:\\users\\gyant\\appdata\\local\\programs\\python\\python39\\lib\\site-packages (from mlflow>=2.0.0->lazypredict) (7.1.0)\n",
      "Requirement already satisfied: graphene<4 in c:\\users\\gyant\\appdata\\local\\programs\\python\\python39\\lib\\site-packages (from mlflow>=2.0.0->lazypredict) (3.4.3)\n",
      "Requirement already satisfied: matplotlib<4 in c:\\users\\gyant\\appdata\\local\\programs\\python\\python39\\lib\\site-packages (from mlflow>=2.0.0->lazypredict) (3.9.4)\n",
      "Requirement already satisfied: numpy<3 in c:\\users\\gyant\\appdata\\local\\programs\\python\\python39\\lib\\site-packages (from mlflow>=2.0.0->lazypredict) (2.0.2)\n",
      "Requirement already satisfied: pyarrow<21,>=4.0.0 in c:\\users\\gyant\\appdata\\local\\programs\\python\\python39\\lib\\site-packages (from mlflow>=2.0.0->lazypredict) (20.0.0)\n",
      "Requirement already satisfied: scipy<2 in c:\\users\\gyant\\appdata\\local\\programs\\python\\python39\\lib\\site-packages (from mlflow>=2.0.0->lazypredict) (1.13.1)\n",
      "Requirement already satisfied: sqlalchemy<3,>=1.4.0 in c:\\users\\gyant\\appdata\\local\\programs\\python\\python39\\lib\\site-packages (from mlflow>=2.0.0->lazypredict) (2.0.41)\n",
      "Requirement already satisfied: waitress<4 in c:\\users\\gyant\\appdata\\local\\programs\\python\\python39\\lib\\site-packages (from mlflow>=2.0.0->lazypredict) (3.0.2)\n",
      "Requirement already satisfied: cachetools<7,>=5.0.0 in c:\\users\\gyant\\appdata\\local\\programs\\python\\python39\\lib\\site-packages (from mlflow-skinny==3.1.4->mlflow>=2.0.0->lazypredict) (5.5.2)\n",
      "Requirement already satisfied: cloudpickle<4 in c:\\users\\gyant\\appdata\\local\\programs\\python\\python39\\lib\\site-packages (from mlflow-skinny==3.1.4->mlflow>=2.0.0->lazypredict) (3.1.1)\n",
      "Requirement already satisfied: databricks-sdk<1,>=0.20.0 in c:\\users\\gyant\\appdata\\local\\programs\\python\\python39\\lib\\site-packages (from mlflow-skinny==3.1.4->mlflow>=2.0.0->lazypredict) (0.60.0)\n",
      "Requirement already satisfied: fastapi<1 in c:\\users\\gyant\\appdata\\local\\programs\\python\\python39\\lib\\site-packages (from mlflow-skinny==3.1.4->mlflow>=2.0.0->lazypredict) (0.115.12)\n",
      "Requirement already satisfied: gitpython<4,>=3.1.9 in c:\\users\\gyant\\appdata\\local\\programs\\python\\python39\\lib\\site-packages (from mlflow-skinny==3.1.4->mlflow>=2.0.0->lazypredict) (3.1.44)\n",
      "Requirement already satisfied: importlib_metadata!=4.7.0,<9,>=3.7.0 in c:\\users\\gyant\\appdata\\local\\programs\\python\\python39\\lib\\site-packages (from mlflow-skinny==3.1.4->mlflow>=2.0.0->lazypredict) (8.7.0)\n",
      "Requirement already satisfied: opentelemetry-api<3,>=1.9.0 in c:\\users\\gyant\\appdata\\local\\programs\\python\\python39\\lib\\site-packages (from mlflow-skinny==3.1.4->mlflow>=2.0.0->lazypredict) (1.36.0)\n",
      "Requirement already satisfied: opentelemetry-sdk<3,>=1.9.0 in c:\\users\\gyant\\appdata\\local\\programs\\python\\python39\\lib\\site-packages (from mlflow-skinny==3.1.4->mlflow>=2.0.0->lazypredict) (1.36.0)\n",
      "Requirement already satisfied: packaging<26 in c:\\users\\gyant\\appdata\\local\\programs\\python\\python39\\lib\\site-packages (from mlflow-skinny==3.1.4->mlflow>=2.0.0->lazypredict) (23.2)\n",
      "Requirement already satisfied: protobuf<7,>=3.12.0 in c:\\users\\gyant\\appdata\\local\\programs\\python\\python39\\lib\\site-packages (from mlflow-skinny==3.1.4->mlflow>=2.0.0->lazypredict) (6.31.1)\n",
      "Requirement already satisfied: pydantic<3,>=1.10.8 in c:\\users\\gyant\\appdata\\local\\programs\\python\\python39\\lib\\site-packages (from mlflow-skinny==3.1.4->mlflow>=2.0.0->lazypredict) (2.11.5)\n",
      "Requirement already satisfied: pyyaml<7,>=5.1 in c:\\users\\gyant\\appdata\\local\\programs\\python\\python39\\lib\\site-packages (from mlflow-skinny==3.1.4->mlflow>=2.0.0->lazypredict) (6.0.2)\n",
      "Requirement already satisfied: requests<3,>=2.17.3 in c:\\users\\gyant\\appdata\\local\\programs\\python\\python39\\lib\\site-packages (from mlflow-skinny==3.1.4->mlflow>=2.0.0->lazypredict) (2.32.4)\n",
      "Requirement already satisfied: sqlparse<1,>=0.4.0 in c:\\users\\gyant\\appdata\\local\\programs\\python\\python39\\lib\\site-packages (from mlflow-skinny==3.1.4->mlflow>=2.0.0->lazypredict) (0.5.3)\n",
      "Requirement already satisfied: typing-extensions<5,>=4.0.0 in c:\\users\\gyant\\appdata\\local\\programs\\python\\python39\\lib\\site-packages (from mlflow-skinny==3.1.4->mlflow>=2.0.0->lazypredict) (4.14.1)\n",
      "Requirement already satisfied: uvicorn<1 in c:\\users\\gyant\\appdata\\local\\programs\\python\\python39\\lib\\site-packages (from mlflow-skinny==3.1.4->mlflow>=2.0.0->lazypredict) (0.34.3)\n",
      "Requirement already satisfied: Mako in c:\\users\\gyant\\appdata\\local\\programs\\python\\python39\\lib\\site-packages (from alembic!=1.10.0,<2->mlflow>=2.0.0->lazypredict) (1.3.10)\n",
      "Requirement already satisfied: tomli in c:\\users\\gyant\\appdata\\local\\programs\\python\\python39\\lib\\site-packages (from alembic!=1.10.0,<2->mlflow>=2.0.0->lazypredict) (2.2.1)\n",
      "Requirement already satisfied: colorama in c:\\users\\gyant\\appdata\\local\\programs\\python\\python39\\lib\\site-packages (from click->lazypredict) (0.4.6)\n",
      "Requirement already satisfied: google-auth~=2.0 in c:\\users\\gyant\\appdata\\local\\programs\\python\\python39\\lib\\site-packages (from databricks-sdk<1,>=0.20.0->mlflow-skinny==3.1.4->mlflow>=2.0.0->lazypredict) (2.40.3)\n",
      "Requirement already satisfied: pywin32>=304 in c:\\users\\gyant\\appdata\\local\\programs\\python\\python39\\lib\\site-packages (from docker<8,>=4.0.0->mlflow>=2.0.0->lazypredict) (310)\n",
      "Requirement already satisfied: urllib3>=1.26.0 in c:\\users\\gyant\\appdata\\local\\programs\\python\\python39\\lib\\site-packages (from docker<8,>=4.0.0->mlflow>=2.0.0->lazypredict) (2.4.0)\n",
      "Requirement already satisfied: starlette<0.47.0,>=0.40.0 in c:\\users\\gyant\\appdata\\local\\programs\\python\\python39\\lib\\site-packages (from fastapi<1->mlflow-skinny==3.1.4->mlflow>=2.0.0->lazypredict) (0.46.2)\n",
      "Requirement already satisfied: blinker>=1.9.0 in c:\\users\\gyant\\appdata\\local\\programs\\python\\python39\\lib\\site-packages (from Flask<4->mlflow>=2.0.0->lazypredict) (1.9.0)\n",
      "Requirement already satisfied: itsdangerous>=2.2.0 in c:\\users\\gyant\\appdata\\local\\programs\\python\\python39\\lib\\site-packages (from Flask<4->mlflow>=2.0.0->lazypredict) (2.2.0)\n",
      "Requirement already satisfied: jinja2>=3.1.2 in c:\\users\\gyant\\appdata\\local\\programs\\python\\python39\\lib\\site-packages (from Flask<4->mlflow>=2.0.0->lazypredict) (3.1.6)\n",
      "Requirement already satisfied: markupsafe>=2.1.1 in c:\\users\\gyant\\appdata\\local\\programs\\python\\python39\\lib\\site-packages (from Flask<4->mlflow>=2.0.0->lazypredict) (3.0.2)\n",
      "Requirement already satisfied: werkzeug>=3.1.0 in c:\\users\\gyant\\appdata\\local\\programs\\python\\python39\\lib\\site-packages (from Flask<4->mlflow>=2.0.0->lazypredict) (3.1.3)\n",
      "Requirement already satisfied: gitdb<5,>=4.0.1 in c:\\users\\gyant\\appdata\\local\\programs\\python\\python39\\lib\\site-packages (from gitpython<4,>=3.1.9->mlflow-skinny==3.1.4->mlflow>=2.0.0->lazypredict) (4.0.12)\n",
      "Requirement already satisfied: smmap<6,>=3.0.1 in c:\\users\\gyant\\appdata\\local\\programs\\python\\python39\\lib\\site-packages (from gitdb<5,>=4.0.1->gitpython<4,>=3.1.9->mlflow-skinny==3.1.4->mlflow>=2.0.0->lazypredict) (5.0.2)\n",
      "Requirement already satisfied: pyasn1-modules>=0.2.1 in c:\\users\\gyant\\appdata\\local\\programs\\python\\python39\\lib\\site-packages (from google-auth~=2.0->databricks-sdk<1,>=0.20.0->mlflow-skinny==3.1.4->mlflow>=2.0.0->lazypredict) (0.4.2)\n",
      "Requirement already satisfied: rsa<5,>=3.1.4 in c:\\users\\gyant\\appdata\\local\\programs\\python\\python39\\lib\\site-packages (from google-auth~=2.0->databricks-sdk<1,>=0.20.0->mlflow-skinny==3.1.4->mlflow>=2.0.0->lazypredict) (4.9.1)\n",
      "Requirement already satisfied: graphql-core<3.3,>=3.1 in c:\\users\\gyant\\appdata\\local\\programs\\python\\python39\\lib\\site-packages (from graphene<4->mlflow>=2.0.0->lazypredict) (3.2.6)\n",
      "Requirement already satisfied: graphql-relay<3.3,>=3.1 in c:\\users\\gyant\\appdata\\local\\programs\\python\\python39\\lib\\site-packages (from graphene<4->mlflow>=2.0.0->lazypredict) (3.2.0)\n",
      "Requirement already satisfied: python-dateutil<3,>=2.7.0 in c:\\users\\gyant\\appdata\\local\\programs\\python\\python39\\lib\\site-packages (from graphene<4->mlflow>=2.0.0->lazypredict) (2.9.0.post0)\n",
      "Requirement already satisfied: zipp>=3.20 in c:\\users\\gyant\\appdata\\local\\programs\\python\\python39\\lib\\site-packages (from importlib_metadata!=4.7.0,<9,>=3.7.0->mlflow-skinny==3.1.4->mlflow>=2.0.0->lazypredict) (3.23.0)\n",
      "Requirement already satisfied: contourpy>=1.0.1 in c:\\users\\gyant\\appdata\\local\\programs\\python\\python39\\lib\\site-packages (from matplotlib<4->mlflow>=2.0.0->lazypredict) (1.3.0)\n",
      "Requirement already satisfied: cycler>=0.10 in c:\\users\\gyant\\appdata\\local\\programs\\python\\python39\\lib\\site-packages (from matplotlib<4->mlflow>=2.0.0->lazypredict) (0.12.1)\n",
      "Requirement already satisfied: fonttools>=4.22.0 in c:\\users\\gyant\\appdata\\local\\programs\\python\\python39\\lib\\site-packages (from matplotlib<4->mlflow>=2.0.0->lazypredict) (4.59.0)\n",
      "Requirement already satisfied: kiwisolver>=1.3.1 in c:\\users\\gyant\\appdata\\local\\programs\\python\\python39\\lib\\site-packages (from matplotlib<4->mlflow>=2.0.0->lazypredict) (1.4.7)\n",
      "Requirement already satisfied: pillow>=8 in c:\\users\\gyant\\appdata\\local\\programs\\python\\python39\\lib\\site-packages (from matplotlib<4->mlflow>=2.0.0->lazypredict) (11.2.1)\n",
      "Requirement already satisfied: pyparsing>=2.3.1 in c:\\users\\gyant\\appdata\\local\\programs\\python\\python39\\lib\\site-packages (from matplotlib<4->mlflow>=2.0.0->lazypredict) (3.2.3)\n",
      "Requirement already satisfied: importlib-resources>=3.2.0 in c:\\users\\gyant\\appdata\\local\\programs\\python\\python39\\lib\\site-packages (from matplotlib<4->mlflow>=2.0.0->lazypredict) (6.5.2)\n",
      "Requirement already satisfied: opentelemetry-semantic-conventions==0.57b0 in c:\\users\\gyant\\appdata\\local\\programs\\python\\python39\\lib\\site-packages (from opentelemetry-sdk<3,>=1.9.0->mlflow-skinny==3.1.4->mlflow>=2.0.0->lazypredict) (0.57b0)\n",
      "Requirement already satisfied: pytz>=2020.1 in c:\\users\\gyant\\appdata\\local\\programs\\python\\python39\\lib\\site-packages (from pandas->lazypredict) (2025.2)\n",
      "Requirement already satisfied: tzdata>=2022.7 in c:\\users\\gyant\\appdata\\local\\programs\\python\\python39\\lib\\site-packages (from pandas->lazypredict) (2025.2)\n",
      "Requirement already satisfied: annotated-types>=0.6.0 in c:\\users\\gyant\\appdata\\local\\programs\\python\\python39\\lib\\site-packages (from pydantic<3,>=1.10.8->mlflow-skinny==3.1.4->mlflow>=2.0.0->lazypredict) (0.7.0)\n",
      "Requirement already satisfied: pydantic-core==2.33.2 in c:\\users\\gyant\\appdata\\local\\programs\\python\\python39\\lib\\site-packages (from pydantic<3,>=1.10.8->mlflow-skinny==3.1.4->mlflow>=2.0.0->lazypredict) (2.33.2)\n",
      "Requirement already satisfied: typing-inspection>=0.4.0 in c:\\users\\gyant\\appdata\\local\\programs\\python\\python39\\lib\\site-packages (from pydantic<3,>=1.10.8->mlflow-skinny==3.1.4->mlflow>=2.0.0->lazypredict) (0.4.1)\n",
      "Requirement already satisfied: six>=1.5 in c:\\users\\gyant\\appdata\\local\\programs\\python\\python39\\lib\\site-packages (from python-dateutil<3,>=2.7.0->graphene<4->mlflow>=2.0.0->lazypredict) (1.15.0)\n",
      "Requirement already satisfied: charset_normalizer<4,>=2 in c:\\users\\gyant\\appdata\\local\\programs\\python\\python39\\lib\\site-packages (from requests<3,>=2.17.3->mlflow-skinny==3.1.4->mlflow>=2.0.0->lazypredict) (3.4.2)\n",
      "Requirement already satisfied: idna<4,>=2.5 in c:\\users\\gyant\\appdata\\local\\programs\\python\\python39\\lib\\site-packages (from requests<3,>=2.17.3->mlflow-skinny==3.1.4->mlflow>=2.0.0->lazypredict) (3.10)\n",
      "Requirement already satisfied: certifi>=2017.4.17 in c:\\users\\gyant\\appdata\\local\\programs\\python\\python39\\lib\\site-packages (from requests<3,>=2.17.3->mlflow-skinny==3.1.4->mlflow>=2.0.0->lazypredict) (2025.4.26)\n",
      "Requirement already satisfied: pyasn1>=0.1.3 in c:\\users\\gyant\\appdata\\local\\programs\\python\\python39\\lib\\site-packages (from rsa<5,>=3.1.4->google-auth~=2.0->databricks-sdk<1,>=0.20.0->mlflow-skinny==3.1.4->mlflow>=2.0.0->lazypredict) (0.6.1)\n",
      "Requirement already satisfied: threadpoolctl>=3.1.0 in c:\\users\\gyant\\appdata\\local\\programs\\python\\python39\\lib\\site-packages (from scikit-learn->lazypredict) (3.6.0)\n",
      "Requirement already satisfied: greenlet>=1 in c:\\users\\gyant\\appdata\\local\\programs\\python\\python39\\lib\\site-packages (from sqlalchemy<3,>=1.4.0->mlflow>=2.0.0->lazypredict) (3.2.3)\n",
      "Requirement already satisfied: anyio<5,>=3.6.2 in c:\\users\\gyant\\appdata\\local\\programs\\python\\python39\\lib\\site-packages (from starlette<0.47.0,>=0.40.0->fastapi<1->mlflow-skinny==3.1.4->mlflow>=2.0.0->lazypredict) (4.9.0)\n",
      "Requirement already satisfied: exceptiongroup>=1.0.2 in c:\\users\\gyant\\appdata\\local\\programs\\python\\python39\\lib\\site-packages (from anyio<5,>=3.6.2->starlette<0.47.0,>=0.40.0->fastapi<1->mlflow-skinny==3.1.4->mlflow>=2.0.0->lazypredict) (1.3.0)\n",
      "Requirement already satisfied: sniffio>=1.1 in c:\\users\\gyant\\appdata\\local\\programs\\python\\python39\\lib\\site-packages (from anyio<5,>=3.6.2->starlette<0.47.0,>=0.40.0->fastapi<1->mlflow-skinny==3.1.4->mlflow>=2.0.0->lazypredict) (1.3.1)\n",
      "Requirement already satisfied: h11>=0.8 in c:\\users\\gyant\\appdata\\local\\programs\\python\\python39\\lib\\site-packages (from uvicorn<1->mlflow-skinny==3.1.4->mlflow>=2.0.0->lazypredict) (0.16.0)\n",
      "Note: you may need to restart the kernel to use updated packages.\n"
     ]
    }
   ],
   "source": [
    "pip install lazypredict\n"
   ]
  },
  {
   "cell_type": "markdown",
   "id": "944c5b65",
   "metadata": {
    "papermill": {
     "duration": 0.006524,
     "end_time": "2024-04-12T22:08:37.241105",
     "exception": false,
     "start_time": "2024-04-12T22:08:37.234581",
     "status": "completed"
    },
    "tags": []
   },
   "source": [
    "# impoer needed liberaries"
   ]
  },
  {
   "cell_type": "code",
   "execution_count": 2,
   "id": "237ae908",
   "metadata": {
    "_cell_guid": "b1076dfc-b9ad-4769-8c92-a6c4dae69d19",
    "_uuid": "8f2839f25d086af736a60e9eeb907d3b93b6e0e5",
    "papermill": {
     "duration": 5.516777,
     "end_time": "2024-04-12T22:08:42.764602",
     "exception": false,
     "start_time": "2024-04-12T22:08:37.247825",
     "status": "completed"
    },
    "tags": []
   },
   "outputs": [],
   "source": [
    "import numpy as np\n",
    "import pandas as pd \n",
    "import matplotlib.pyplot as plt\n",
    "\n",
    "from sklearn.model_selection import train_test_split\n",
    "from lazypredict.Supervised import LazyClassifier\n",
    "\n"
   ]
  },
  {
   "cell_type": "code",
   "execution_count": 3,
   "id": "c1eeb381",
   "metadata": {
    "papermill": {
     "duration": 0.058378,
     "end_time": "2024-04-12T22:08:42.830175",
     "exception": false,
     "start_time": "2024-04-12T22:08:42.771797",
     "status": "completed"
    },
    "tags": []
   },
   "outputs": [
    {
     "data": {
      "text/html": [
       "<div>\n",
       "<style scoped>\n",
       "    .dataframe tbody tr th:only-of-type {\n",
       "        vertical-align: middle;\n",
       "    }\n",
       "\n",
       "    .dataframe tbody tr th {\n",
       "        vertical-align: top;\n",
       "    }\n",
       "\n",
       "    .dataframe thead th {\n",
       "        text-align: right;\n",
       "    }\n",
       "</style>\n",
       "<table border=\"1\" class=\"dataframe\">\n",
       "  <thead>\n",
       "    <tr style=\"text-align: right;\">\n",
       "      <th></th>\n",
       "      <th>Pregnancies</th>\n",
       "      <th>Glucose</th>\n",
       "      <th>BloodPressure</th>\n",
       "      <th>SkinThickness</th>\n",
       "      <th>Insulin</th>\n",
       "      <th>BMI</th>\n",
       "      <th>DiabetesPedigreeFunction</th>\n",
       "      <th>Age</th>\n",
       "      <th>Outcome</th>\n",
       "    </tr>\n",
       "  </thead>\n",
       "  <tbody>\n",
       "    <tr>\n",
       "      <th>0</th>\n",
       "      <td>6</td>\n",
       "      <td>148</td>\n",
       "      <td>72</td>\n",
       "      <td>35</td>\n",
       "      <td>0</td>\n",
       "      <td>33.60</td>\n",
       "      <td>0.63</td>\n",
       "      <td>50</td>\n",
       "      <td>1</td>\n",
       "    </tr>\n",
       "    <tr>\n",
       "      <th>1</th>\n",
       "      <td>1</td>\n",
       "      <td>85</td>\n",
       "      <td>66</td>\n",
       "      <td>29</td>\n",
       "      <td>0</td>\n",
       "      <td>26.60</td>\n",
       "      <td>0.35</td>\n",
       "      <td>31</td>\n",
       "      <td>0</td>\n",
       "    </tr>\n",
       "    <tr>\n",
       "      <th>2</th>\n",
       "      <td>8</td>\n",
       "      <td>183</td>\n",
       "      <td>64</td>\n",
       "      <td>0</td>\n",
       "      <td>0</td>\n",
       "      <td>23.30</td>\n",
       "      <td>0.67</td>\n",
       "      <td>32</td>\n",
       "      <td>1</td>\n",
       "    </tr>\n",
       "    <tr>\n",
       "      <th>3</th>\n",
       "      <td>1</td>\n",
       "      <td>89</td>\n",
       "      <td>66</td>\n",
       "      <td>23</td>\n",
       "      <td>94</td>\n",
       "      <td>28.10</td>\n",
       "      <td>0.17</td>\n",
       "      <td>21</td>\n",
       "      <td>0</td>\n",
       "    </tr>\n",
       "    <tr>\n",
       "      <th>4</th>\n",
       "      <td>0</td>\n",
       "      <td>137</td>\n",
       "      <td>40</td>\n",
       "      <td>35</td>\n",
       "      <td>168</td>\n",
       "      <td>43.10</td>\n",
       "      <td>2.29</td>\n",
       "      <td>33</td>\n",
       "      <td>1</td>\n",
       "    </tr>\n",
       "  </tbody>\n",
       "</table>\n",
       "</div>"
      ],
      "text/plain": [
       "   Pregnancies  Glucose  BloodPressure  SkinThickness  Insulin   BMI  \\\n",
       "0            6      148             72             35        0 33.60   \n",
       "1            1       85             66             29        0 26.60   \n",
       "2            8      183             64              0        0 23.30   \n",
       "3            1       89             66             23       94 28.10   \n",
       "4            0      137             40             35      168 43.10   \n",
       "\n",
       "   DiabetesPedigreeFunction  Age  Outcome  \n",
       "0                      0.63   50        1  \n",
       "1                      0.35   31        0  \n",
       "2                      0.67   32        1  \n",
       "3                      0.17   21        0  \n",
       "4                      2.29   33        1  "
      ]
     },
     "execution_count": 3,
     "metadata": {},
     "output_type": "execute_result"
    }
   ],
   "source": [
    "df = pd.read_csv('Training.csv')\n",
    "df.head()"
   ]
  },
  {
   "cell_type": "code",
   "execution_count": 4,
   "id": "8db4aff6",
   "metadata": {
    "papermill": {
     "duration": 0.01711,
     "end_time": "2024-04-12T22:08:42.854330",
     "exception": false,
     "start_time": "2024-04-12T22:08:42.837220",
     "status": "completed"
    },
    "tags": []
   },
   "outputs": [
    {
     "data": {
      "text/plain": [
       "(2460, 9)"
      ]
     },
     "execution_count": 4,
     "metadata": {},
     "output_type": "execute_result"
    }
   ],
   "source": [
    "df.shape"
   ]
  },
  {
   "cell_type": "code",
   "execution_count": 5,
   "id": "227665f4",
   "metadata": {
    "papermill": {
     "duration": 0.04116,
     "end_time": "2024-04-12T22:08:42.902562",
     "exception": false,
     "start_time": "2024-04-12T22:08:42.861402",
     "status": "completed"
    },
    "tags": []
   },
   "outputs": [
    {
     "name": "stdout",
     "output_type": "stream",
     "text": [
      "<class 'pandas.core.frame.DataFrame'>\n",
      "RangeIndex: 2460 entries, 0 to 2459\n",
      "Data columns (total 9 columns):\n",
      " #   Column                    Non-Null Count  Dtype  \n",
      "---  ------                    --------------  -----  \n",
      " 0   Pregnancies               2460 non-null   int64  \n",
      " 1   Glucose                   2460 non-null   int64  \n",
      " 2   BloodPressure             2460 non-null   int64  \n",
      " 3   SkinThickness             2460 non-null   int64  \n",
      " 4   Insulin                   2460 non-null   int64  \n",
      " 5   BMI                       2460 non-null   float64\n",
      " 6   DiabetesPedigreeFunction  2460 non-null   float64\n",
      " 7   Age                       2460 non-null   int64  \n",
      " 8   Outcome                   2460 non-null   int64  \n",
      "dtypes: float64(2), int64(7)\n",
      "memory usage: 173.1 KB\n"
     ]
    }
   ],
   "source": [
    "df.info()"
   ]
  },
  {
   "cell_type": "code",
   "execution_count": 6,
   "id": "ac95137e",
   "metadata": {
    "papermill": {
     "duration": 0.05003,
     "end_time": "2024-04-12T22:08:42.959879",
     "exception": false,
     "start_time": "2024-04-12T22:08:42.909849",
     "status": "completed"
    },
    "tags": []
   },
   "outputs": [
    {
     "data": {
      "text/html": [
       "<div>\n",
       "<style scoped>\n",
       "    .dataframe tbody tr th:only-of-type {\n",
       "        vertical-align: middle;\n",
       "    }\n",
       "\n",
       "    .dataframe tbody tr th {\n",
       "        vertical-align: top;\n",
       "    }\n",
       "\n",
       "    .dataframe thead th {\n",
       "        text-align: right;\n",
       "    }\n",
       "</style>\n",
       "<table border=\"1\" class=\"dataframe\">\n",
       "  <thead>\n",
       "    <tr style=\"text-align: right;\">\n",
       "      <th></th>\n",
       "      <th>Pregnancies</th>\n",
       "      <th>Glucose</th>\n",
       "      <th>BloodPressure</th>\n",
       "      <th>SkinThickness</th>\n",
       "      <th>Insulin</th>\n",
       "      <th>BMI</th>\n",
       "      <th>DiabetesPedigreeFunction</th>\n",
       "      <th>Age</th>\n",
       "      <th>Outcome</th>\n",
       "    </tr>\n",
       "  </thead>\n",
       "  <tbody>\n",
       "    <tr>\n",
       "      <th>count</th>\n",
       "      <td>2460.00</td>\n",
       "      <td>2460.00</td>\n",
       "      <td>2460.00</td>\n",
       "      <td>2460.00</td>\n",
       "      <td>2460.00</td>\n",
       "      <td>2460.00</td>\n",
       "      <td>2460.00</td>\n",
       "      <td>2460.00</td>\n",
       "      <td>2460.00</td>\n",
       "    </tr>\n",
       "    <tr>\n",
       "      <th>mean</th>\n",
       "      <td>3.82</td>\n",
       "      <td>121.60</td>\n",
       "      <td>68.92</td>\n",
       "      <td>20.53</td>\n",
       "      <td>80.12</td>\n",
       "      <td>31.99</td>\n",
       "      <td>0.49</td>\n",
       "      <td>32.82</td>\n",
       "      <td>0.39</td>\n",
       "    </tr>\n",
       "    <tr>\n",
       "      <th>std</th>\n",
       "      <td>3.30</td>\n",
       "      <td>31.79</td>\n",
       "      <td>19.08</td>\n",
       "      <td>15.72</td>\n",
       "      <td>116.77</td>\n",
       "      <td>7.80</td>\n",
       "      <td>0.36</td>\n",
       "      <td>11.25</td>\n",
       "      <td>0.49</td>\n",
       "    </tr>\n",
       "    <tr>\n",
       "      <th>min</th>\n",
       "      <td>0.00</td>\n",
       "      <td>0.00</td>\n",
       "      <td>0.00</td>\n",
       "      <td>0.00</td>\n",
       "      <td>0.00</td>\n",
       "      <td>0.00</td>\n",
       "      <td>0.08</td>\n",
       "      <td>21.00</td>\n",
       "      <td>0.00</td>\n",
       "    </tr>\n",
       "    <tr>\n",
       "      <th>25%</th>\n",
       "      <td>1.00</td>\n",
       "      <td>100.00</td>\n",
       "      <td>64.00</td>\n",
       "      <td>0.00</td>\n",
       "      <td>0.00</td>\n",
       "      <td>27.10</td>\n",
       "      <td>0.25</td>\n",
       "      <td>24.00</td>\n",
       "      <td>0.00</td>\n",
       "    </tr>\n",
       "    <tr>\n",
       "      <th>50%</th>\n",
       "      <td>3.00</td>\n",
       "      <td>117.00</td>\n",
       "      <td>70.00</td>\n",
       "      <td>23.00</td>\n",
       "      <td>36.00</td>\n",
       "      <td>32.10</td>\n",
       "      <td>0.38</td>\n",
       "      <td>29.00</td>\n",
       "      <td>0.00</td>\n",
       "    </tr>\n",
       "    <tr>\n",
       "      <th>75%</th>\n",
       "      <td>6.00</td>\n",
       "      <td>142.00</td>\n",
       "      <td>80.00</td>\n",
       "      <td>33.00</td>\n",
       "      <td>129.00</td>\n",
       "      <td>36.50</td>\n",
       "      <td>0.65</td>\n",
       "      <td>39.00</td>\n",
       "      <td>1.00</td>\n",
       "    </tr>\n",
       "    <tr>\n",
       "      <th>max</th>\n",
       "      <td>17.00</td>\n",
       "      <td>197.00</td>\n",
       "      <td>122.00</td>\n",
       "      <td>63.00</td>\n",
       "      <td>846.00</td>\n",
       "      <td>67.10</td>\n",
       "      <td>2.42</td>\n",
       "      <td>81.00</td>\n",
       "      <td>1.00</td>\n",
       "    </tr>\n",
       "  </tbody>\n",
       "</table>\n",
       "</div>"
      ],
      "text/plain": [
       "       Pregnancies  Glucose  BloodPressure  SkinThickness  Insulin     BMI  \\\n",
       "count      2460.00  2460.00        2460.00        2460.00  2460.00 2460.00   \n",
       "mean          3.82   121.60          68.92          20.53    80.12   31.99   \n",
       "std           3.30    31.79          19.08          15.72   116.77    7.80   \n",
       "min           0.00     0.00           0.00           0.00     0.00    0.00   \n",
       "25%           1.00   100.00          64.00           0.00     0.00   27.10   \n",
       "50%           3.00   117.00          70.00          23.00    36.00   32.10   \n",
       "75%           6.00   142.00          80.00          33.00   129.00   36.50   \n",
       "max          17.00   197.00         122.00          63.00   846.00   67.10   \n",
       "\n",
       "       DiabetesPedigreeFunction     Age  Outcome  \n",
       "count                   2460.00 2460.00  2460.00  \n",
       "mean                       0.49   32.82     0.39  \n",
       "std                        0.36   11.25     0.49  \n",
       "min                        0.08   21.00     0.00  \n",
       "25%                        0.25   24.00     0.00  \n",
       "50%                        0.38   29.00     0.00  \n",
       "75%                        0.65   39.00     1.00  \n",
       "max                        2.42   81.00     1.00  "
      ]
     },
     "execution_count": 6,
     "metadata": {},
     "output_type": "execute_result"
    }
   ],
   "source": [
    "df.describe()"
   ]
  },
  {
   "cell_type": "code",
   "execution_count": 7,
   "id": "dea9a85d",
   "metadata": {
    "papermill": {
     "duration": 0.021557,
     "end_time": "2024-04-12T22:08:42.989061",
     "exception": false,
     "start_time": "2024-04-12T22:08:42.967504",
     "status": "completed"
    },
    "tags": []
   },
   "outputs": [
    {
     "data": {
      "text/plain": [
       "np.int64(2000)"
      ]
     },
     "execution_count": 7,
     "metadata": {},
     "output_type": "execute_result"
    }
   ],
   "source": [
    "df.duplicated().sum()"
   ]
  },
  {
   "cell_type": "code",
   "execution_count": 8,
   "id": "c3df5a0b-899d-43a5-85ef-d86f4aff028d",
   "metadata": {},
   "outputs": [],
   "source": [
    "# df = df.drop_duplicates()"
   ]
  },
  {
   "cell_type": "code",
   "execution_count": 9,
   "id": "c698745c-4f9c-4ab5-9090-fa3a389ca419",
   "metadata": {},
   "outputs": [],
   "source": [
    "# df.shape"
   ]
  },
  {
   "cell_type": "markdown",
   "id": "19a0312f",
   "metadata": {
    "papermill": {
     "duration": 0.007593,
     "end_time": "2024-04-12T22:08:43.004818",
     "exception": false,
     "start_time": "2024-04-12T22:08:42.997225",
     "status": "completed"
    },
    "tags": []
   },
   "source": [
    "# feature and target"
   ]
  },
  {
   "cell_type": "code",
   "execution_count": 10,
   "id": "e792366f",
   "metadata": {
    "papermill": {
     "duration": 0.019494,
     "end_time": "2024-04-12T22:08:43.032007",
     "exception": false,
     "start_time": "2024-04-12T22:08:43.012513",
     "status": "completed"
    },
    "tags": []
   },
   "outputs": [],
   "source": [
    "x = df.drop(columns = ['Outcome'], axis = 1)\n",
    "y = df['Outcome']"
   ]
  },
  {
   "cell_type": "code",
   "execution_count": 11,
   "id": "1b49f5e2",
   "metadata": {
    "papermill": {
     "duration": 0.021182,
     "end_time": "2024-04-12T22:08:43.061075",
     "exception": false,
     "start_time": "2024-04-12T22:08:43.039893",
     "status": "completed"
    },
    "tags": []
   },
   "outputs": [],
   "source": [
    "x_train , x_test, y_train, y_test = train_test_split(x,y ,test_size = 0.2, shuffle= True , random_state=40)"
   ]
  },
  {
   "cell_type": "markdown",
   "id": "0efa4fb7",
   "metadata": {
    "papermill": {
     "duration": 0.008541,
     "end_time": "2024-04-12T22:08:43.077459",
     "exception": false,
     "start_time": "2024-04-12T22:08:43.068918",
     "status": "completed"
    },
    "tags": []
   },
   "source": [
    "# models\n"
   ]
  },
  {
   "cell_type": "code",
   "execution_count": 12,
   "id": "7502943d-d4c0-4b92-8e27-6da29dd4fa95",
   "metadata": {},
   "outputs": [],
   "source": [
    "# !pip install -U lazypredict\n"
   ]
  },
  {
   "cell_type": "code",
   "execution_count": 13,
   "id": "dc75cc75",
   "metadata": {
    "papermill": {
     "duration": 4.541205,
     "end_time": "2024-04-12T22:08:47.626517",
     "exception": false,
     "start_time": "2024-04-12T22:08:43.085312",
     "status": "completed"
    },
    "scrolled": true,
    "tags": []
   },
   "outputs": [
    {
     "name": "stderr",
     "output_type": "stream",
     "text": [
      "  9%|███████▊                                                                           | 3/32 [00:00<00:02, 10.45it/s]"
     ]
    },
    {
     "name": "stdout",
     "output_type": "stream",
     "text": [
      "{'Model': 'AdaBoostClassifier', 'Accuracy': 0.7357723577235772, 'Balanced Accuracy': np.float64(0.7035441349951275), 'ROC AUC': np.float64(0.7035441349951275), 'F1 Score': 0.7249415804536796, 'Time taken': 0.21149754524230957}\n",
      "{'Model': 'BaggingClassifier', 'Accuracy': 1.0, 'Balanced Accuracy': np.float64(1.0), 'ROC AUC': np.float64(1.0), 'F1 Score': 1.0, 'Time taken': 0.08881020545959473}\n",
      "{'Model': 'BernoulliNB', 'Accuracy': 0.7113821138211383, 'Balanced Accuracy': np.float64(0.6921577678617223), 'ROC AUC': np.float64(0.6921577678617223), 'F1 Score': 0.7079348469109397, 'Time taken': 0.01958441734313965}\n",
      "{'Model': 'CalibratedClassifierCV', 'Accuracy': 0.717479674796748, 'Balanced Accuracy': np.float64(0.6880802174693543), 'ROC AUC': np.float64(0.6880802174693543), 'F1 Score': 0.7083358444472766, 'Time taken': 0.07060718536376953}\n",
      "{'Model': 'DecisionTreeClassifier', 'Accuracy': 0.991869918699187, 'Balanced Accuracy': np.float64(0.9900497512437811), 'ROC AUC': np.float64(0.9900497512437811), 'F1 Score': 0.9918568117370337, 'Time taken': 0.024988651275634766}\n"
     ]
    },
    {
     "name": "stderr",
     "output_type": "stream",
     "text": [
      " 19%|███████████████▌                                                                   | 6/32 [00:00<00:01, 17.13it/s]"
     ]
    },
    {
     "name": "stdout",
     "output_type": "stream",
     "text": [
      "{'Model': 'DummyClassifier', 'Accuracy': 0.5914634146341463, 'Balanced Accuracy': np.float64(0.5), 'ROC AUC': np.float64(0.5), 'F1 Score': 0.4396318101112046, 'Time taken': 0.022615909576416016}\n",
      "{'Model': 'ExtraTreeClassifier', 'Accuracy': 0.9817073170731707, 'Balanced Accuracy': np.float64(0.9791506385597785), 'ROC AUC': np.float64(0.9791506385597785), 'F1 Score': 0.9816700313639536, 'Time taken': 0.023844242095947266}\n"
     ]
    },
    {
     "name": "stderr",
     "output_type": "stream",
     "text": [
      " 28%|███████████████████████▎                                                           | 9/32 [00:00<00:01, 13.69it/s]"
     ]
    },
    {
     "name": "stdout",
     "output_type": "stream",
     "text": [
      "{'Model': 'ExtraTreesClassifier', 'Accuracy': 0.991869918699187, 'Balanced Accuracy': np.float64(0.9900497512437811), 'ROC AUC': np.float64(0.9900497512437811), 'F1 Score': 0.9918568117370337, 'Time taken': 0.21877169609069824}\n",
      "{'Model': 'GaussianNB', 'Accuracy': 0.7357723577235772, 'Balanced Accuracy': np.float64(0.7150843719546598), 'ROC AUC': np.float64(0.7150843719546596), 'F1 Score': 0.7315941850120589, 'Time taken': 0.02043628692626953}\n",
      "{'Model': 'KNeighborsClassifier', 'Accuracy': 0.9146341463414634, 'Balanced Accuracy': np.float64(0.9055239267579628), 'ROC AUC': np.float64(0.9055239267579629), 'F1 Score': 0.9140069239602754, 'Time taken': 0.050463199615478516}\n"
     ]
    },
    {
     "name": "stderr",
     "output_type": "stream",
     "text": [
      " 41%|█████████████████████████████████▎                                                | 13/32 [00:00<00:01, 15.19it/s]"
     ]
    },
    {
     "name": "stdout",
     "output_type": "stream",
     "text": [
      "{'Model': 'LabelPropagation', 'Accuracy': 0.9878048780487805, 'Balanced Accuracy': np.float64(0.9866133251269427), 'ROC AUC': np.float64(0.9866133251269427), 'F1 Score': 0.987795272302038, 'Time taken': 0.15793728828430176}\n"
     ]
    },
    {
     "name": "stderr",
     "output_type": "stream",
     "text": [
      " 47%|██████████████████████████████████████▍                                           | 15/32 [00:01<00:01, 12.34it/s]"
     ]
    },
    {
     "name": "stdout",
     "output_type": "stream",
     "text": [
      "{'Model': 'LabelSpreading', 'Accuracy': 0.9878048780487805, 'Balanced Accuracy': np.float64(0.9866133251269427), 'ROC AUC': np.float64(0.9866133251269427), 'F1 Score': 0.987795272302038, 'Time taken': 0.22206377983093262}\n",
      "{'Model': 'LinearDiscriminantAnalysis', 'Accuracy': 0.7134146341463414, 'Balanced Accuracy': np.float64(0.6846437913525159), 'ROC AUC': np.float64(0.6846437913525157), 'F1 Score': 0.7046514724450568, 'Time taken': 0.02951502799987793}\n",
      "{'Model': 'LinearSVC', 'Accuracy': 0.7195121951219512, 'Balanced Accuracy': np.float64(0.6897984305277736), 'ROC AUC': np.float64(0.6897984305277736), 'F1 Score': 0.7101786126468745, 'Time taken': 0.018045425415039062}\n",
      "{'Model': 'LogisticRegression', 'Accuracy': 0.7296747967479674, 'Balanced Accuracy': np.float64(0.7030055906036826), 'ROC AUC': np.float64(0.7030055906036827), 'F1 Score': 0.7223381592104691, 'Time taken': 0.01799917221069336}\n",
      "{'Model': 'NearestCentroid', 'Accuracy': 0.6910569105691057, 'Balanced Accuracy': np.float64(0.6803610811919782), 'ROC AUC': np.float64(0.6803610811919784), 'F1 Score': 0.6910569105691057, 'Time taken': 0.016004085540771484}\n"
     ]
    },
    {
     "name": "stderr",
     "output_type": "stream",
     "text": [
      " 59%|████████████████████████████████████████████████▋                                 | 19/32 [00:01<00:00, 14.58it/s]"
     ]
    },
    {
     "name": "stdout",
     "output_type": "stream",
     "text": [
      "{'Model': 'NuSVC', 'Accuracy': 0.8109756097560976, 'Balanced Accuracy': np.float64(0.7855823972918912), 'ROC AUC': np.float64(0.785582397291891), 'F1 Score': 0.8051956520382288, 'Time taken': 0.15197110176086426}\n",
      "{'Model': 'PassiveAggressiveClassifier', 'Accuracy': 0.6483739837398373, 'Balanced Accuracy': np.float64(0.6542801456634354), 'ROC AUC': np.float64(0.6542801456634354), 'F1 Score': 0.6513323176443054, 'Time taken': 0.02619457244873047}\n",
      "{'Model': 'Perceptron', 'Accuracy': 0.6666666666666666, 'Balanced Accuracy': np.float64(0.6397394470944248), 'ROC AUC': np.float64(0.6397394470944247), 'F1 Score': 0.6589685740171608, 'Time taken': 0.017531156539916992}\n",
      "{'Model': 'QuadraticDiscriminantAnalysis', 'Accuracy': 0.75, 'Balanced Accuracy': np.float64(0.7286505616248653), 'ROC AUC': np.float64(0.7286505616248653), 'F1 Score': 0.7455284552845529, 'Time taken': 0.0218198299407959}\n"
     ]
    },
    {
     "name": "stderr",
     "output_type": "stream",
     "text": [
      " 84%|█████████████████████████████████████████████████████████████████████▏            | 27/32 [00:01<00:00, 15.32it/s]"
     ]
    },
    {
     "name": "stdout",
     "output_type": "stream",
     "text": [
      "{'Model': 'RandomForestClassifier', 'Accuracy': 1.0, 'Balanced Accuracy': np.float64(1.0), 'ROC AUC': np.float64(1.0), 'F1 Score': 1.0, 'Time taken': 0.27408576011657715}\n",
      "{'Model': 'RidgeClassifier', 'Accuracy': 0.7154471544715447, 'Balanced Accuracy': np.float64(0.6863620044109351), 'ROC AUC': np.float64(0.686362004410935), 'F1 Score': 0.7064934814336635, 'Time taken': 0.025533199310302734}\n",
      "{'Model': 'RidgeClassifierCV', 'Accuracy': 0.7154471544715447, 'Balanced Accuracy': np.float64(0.6863620044109351), 'ROC AUC': np.float64(0.686362004410935), 'F1 Score': 0.7064934814336635, 'Time taken': 0.018834590911865234}\n",
      "{'Model': 'SGDClassifier', 'Accuracy': 0.7357723577235772, 'Balanced Accuracy': np.float64(0.7096989280402113), 'ROC AUC': np.float64(0.7096989280402112), 'F1 Score': 0.7288208603256183, 'Time taken': 0.02320408821105957}\n",
      "{'Model': 'SVC', 'Accuracy': 0.8211382113821138, 'Balanced Accuracy': np.float64(0.7995589064984356), 'ROC AUC': np.float64(0.7995589064984356), 'F1 Score': 0.8170075275214034, 'Time taken': 0.12058377265930176}\n"
     ]
    },
    {
     "name": "stderr",
     "output_type": "stream",
     "text": [
      " 97%|███████████████████████████████████████████████████████████████████████████████▍  | 31/32 [00:02<00:00, 18.26it/s]"
     ]
    },
    {
     "name": "stdout",
     "output_type": "stream",
     "text": [
      "{'Model': 'XGBClassifier', 'Accuracy': 1.0, 'Balanced Accuracy': np.float64(1.0), 'ROC AUC': np.float64(1.0), 'F1 Score': 1.0, 'Time taken': 0.12312674522399902}\n"
     ]
    },
    {
     "name": "stderr",
     "output_type": "stream",
     "text": [
      "100%|██████████████████████████████████████████████████████████████████████████████████| 32/32 [00:06<00:00,  5.23it/s]"
     ]
    },
    {
     "name": "stdout",
     "output_type": "stream",
     "text": [
      "[LightGBM] [Info] Number of positive: 759, number of negative: 1209\n",
      "[LightGBM] [Info] Auto-choosing row-wise multi-threading, the overhead of testing was 0.000421 seconds.\n",
      "You can set `force_row_wise=true` to remove the overhead.\n",
      "And if memory is not enough, you can set `force_col_wise=true`.\n",
      "[LightGBM] [Info] Total Bins 851\n",
      "[LightGBM] [Info] Number of data points in the train set: 1968, number of used features: 8\n",
      "[LightGBM] [Info] [binary:BoostFromScore]: pavg=0.385671 -> initscore=-0.465547\n",
      "[LightGBM] [Info] Start training from score -0.465547\n",
      "{'Model': 'LGBMClassifier', 'Accuracy': 0.9959349593495935, 'Balanced Accuracy': np.float64(0.9965635738831615), 'ROC AUC': np.float64(0.9965635738831615), 'F1 Score': 0.9959380126406249, 'Time taken': 4.070770978927612}\n"
     ]
    },
    {
     "name": "stderr",
     "output_type": "stream",
     "text": [
      "\n"
     ]
    }
   ],
   "source": [
    "from lazypredict.Supervised import LazyClassifier\n",
    "import lazypredict.Supervised\n",
    "import tqdm\n",
    "\n",
    "# ✅ Patch BOTH tqdm and notebook_tqdm to avoid IProgress error\n",
    "lazypredict.Supervised.tqdm = tqdm.tqdm\n",
    "lazypredict.Supervised.notebook_tqdm = tqdm.tqdm  # override notebook_tqdm too\n",
    "\n",
    "# Then run LazyClassifier\n",
    "clf = LazyClassifier(verbose=1)\n",
    "models, predictions = clf.fit(x_train, x_test, y_train, y_test)\n"
   ]
  },
  {
   "cell_type": "code",
   "execution_count": 14,
   "id": "a4a55a42",
   "metadata": {
    "papermill": {
     "duration": 0.025708,
     "end_time": "2024-04-12T22:08:47.662804",
     "exception": false,
     "start_time": "2024-04-12T22:08:47.637096",
     "status": "completed"
    },
    "tags": []
   },
   "outputs": [
    {
     "name": "stdout",
     "output_type": "stream",
     "text": [
      "                               Accuracy  Balanced Accuracy  ROC AUC  F1 Score  \\\n",
      "Model                                                                           \n",
      "BaggingClassifier                  1.00               1.00     1.00      1.00   \n",
      "RandomForestClassifier             1.00               1.00     1.00      1.00   \n",
      "XGBClassifier                      1.00               1.00     1.00      1.00   \n",
      "LGBMClassifier                     1.00               1.00     1.00      1.00   \n",
      "ExtraTreesClassifier               0.99               0.99     0.99      0.99   \n",
      "DecisionTreeClassifier             0.99               0.99     0.99      0.99   \n",
      "LabelPropagation                   0.99               0.99     0.99      0.99   \n",
      "LabelSpreading                     0.99               0.99     0.99      0.99   \n",
      "ExtraTreeClassifier                0.98               0.98     0.98      0.98   \n",
      "KNeighborsClassifier               0.91               0.91     0.91      0.91   \n",
      "SVC                                0.82               0.80     0.80      0.82   \n",
      "NuSVC                              0.81               0.79     0.79      0.81   \n",
      "QuadraticDiscriminantAnalysis      0.75               0.73     0.73      0.75   \n",
      "GaussianNB                         0.74               0.72     0.72      0.73   \n",
      "SGDClassifier                      0.74               0.71     0.71      0.73   \n",
      "AdaBoostClassifier                 0.74               0.70     0.70      0.72   \n",
      "LogisticRegression                 0.73               0.70     0.70      0.72   \n",
      "BernoulliNB                        0.71               0.69     0.69      0.71   \n",
      "LinearSVC                          0.72               0.69     0.69      0.71   \n",
      "CalibratedClassifierCV             0.72               0.69     0.69      0.71   \n",
      "RidgeClassifierCV                  0.72               0.69     0.69      0.71   \n",
      "RidgeClassifier                    0.72               0.69     0.69      0.71   \n",
      "LinearDiscriminantAnalysis         0.71               0.68     0.68      0.70   \n",
      "NearestCentroid                    0.69               0.68     0.68      0.69   \n",
      "PassiveAggressiveClassifier        0.65               0.65     0.65      0.65   \n",
      "Perceptron                         0.67               0.64     0.64      0.66   \n",
      "DummyClassifier                    0.59               0.50     0.50      0.44   \n",
      "\n",
      "                               Time Taken  \n",
      "Model                                      \n",
      "BaggingClassifier                    0.09  \n",
      "RandomForestClassifier               0.27  \n",
      "XGBClassifier                        0.12  \n",
      "LGBMClassifier                       4.07  \n",
      "ExtraTreesClassifier                 0.22  \n",
      "DecisionTreeClassifier               0.02  \n",
      "LabelPropagation                     0.16  \n",
      "LabelSpreading                       0.22  \n",
      "ExtraTreeClassifier                  0.02  \n",
      "KNeighborsClassifier                 0.05  \n",
      "SVC                                  0.12  \n",
      "NuSVC                                0.15  \n",
      "QuadraticDiscriminantAnalysis        0.02  \n",
      "GaussianNB                           0.02  \n",
      "SGDClassifier                        0.02  \n",
      "AdaBoostClassifier                   0.21  \n",
      "LogisticRegression                   0.02  \n",
      "BernoulliNB                          0.02  \n",
      "LinearSVC                            0.02  \n",
      "CalibratedClassifierCV               0.07  \n",
      "RidgeClassifierCV                    0.02  \n",
      "RidgeClassifier                      0.03  \n",
      "LinearDiscriminantAnalysis           0.03  \n",
      "NearestCentroid                      0.02  \n",
      "PassiveAggressiveClassifier          0.03  \n",
      "Perceptron                           0.02  \n",
      "DummyClassifier                      0.02  \n"
     ]
    }
   ],
   "source": [
    "print(models)"
   ]
  },
  {
   "cell_type": "code",
   "execution_count": 15,
   "id": "5ba6eb2f",
   "metadata": {
    "papermill": {
     "duration": 0.010422,
     "end_time": "2024-04-12T22:08:47.684064",
     "exception": false,
     "start_time": "2024-04-12T22:08:47.673642",
     "status": "completed"
    },
    "tags": []
   },
   "outputs": [
    {
     "data": {
      "text/html": [
       "<style>#sk-container-id-1 {\n",
       "  /* Definition of color scheme common for light and dark mode */\n",
       "  --sklearn-color-text: #000;\n",
       "  --sklearn-color-text-muted: #666;\n",
       "  --sklearn-color-line: gray;\n",
       "  /* Definition of color scheme for unfitted estimators */\n",
       "  --sklearn-color-unfitted-level-0: #fff5e6;\n",
       "  --sklearn-color-unfitted-level-1: #f6e4d2;\n",
       "  --sklearn-color-unfitted-level-2: #ffe0b3;\n",
       "  --sklearn-color-unfitted-level-3: chocolate;\n",
       "  /* Definition of color scheme for fitted estimators */\n",
       "  --sklearn-color-fitted-level-0: #f0f8ff;\n",
       "  --sklearn-color-fitted-level-1: #d4ebff;\n",
       "  --sklearn-color-fitted-level-2: #b3dbfd;\n",
       "  --sklearn-color-fitted-level-3: cornflowerblue;\n",
       "\n",
       "  /* Specific color for light theme */\n",
       "  --sklearn-color-text-on-default-background: var(--sg-text-color, var(--theme-code-foreground, var(--jp-content-font-color1, black)));\n",
       "  --sklearn-color-background: var(--sg-background-color, var(--theme-background, var(--jp-layout-color0, white)));\n",
       "  --sklearn-color-border-box: var(--sg-text-color, var(--theme-code-foreground, var(--jp-content-font-color1, black)));\n",
       "  --sklearn-color-icon: #696969;\n",
       "\n",
       "  @media (prefers-color-scheme: dark) {\n",
       "    /* Redefinition of color scheme for dark theme */\n",
       "    --sklearn-color-text-on-default-background: var(--sg-text-color, var(--theme-code-foreground, var(--jp-content-font-color1, white)));\n",
       "    --sklearn-color-background: var(--sg-background-color, var(--theme-background, var(--jp-layout-color0, #111)));\n",
       "    --sklearn-color-border-box: var(--sg-text-color, var(--theme-code-foreground, var(--jp-content-font-color1, white)));\n",
       "    --sklearn-color-icon: #878787;\n",
       "  }\n",
       "}\n",
       "\n",
       "#sk-container-id-1 {\n",
       "  color: var(--sklearn-color-text);\n",
       "}\n",
       "\n",
       "#sk-container-id-1 pre {\n",
       "  padding: 0;\n",
       "}\n",
       "\n",
       "#sk-container-id-1 input.sk-hidden--visually {\n",
       "  border: 0;\n",
       "  clip: rect(1px 1px 1px 1px);\n",
       "  clip: rect(1px, 1px, 1px, 1px);\n",
       "  height: 1px;\n",
       "  margin: -1px;\n",
       "  overflow: hidden;\n",
       "  padding: 0;\n",
       "  position: absolute;\n",
       "  width: 1px;\n",
       "}\n",
       "\n",
       "#sk-container-id-1 div.sk-dashed-wrapped {\n",
       "  border: 1px dashed var(--sklearn-color-line);\n",
       "  margin: 0 0.4em 0.5em 0.4em;\n",
       "  box-sizing: border-box;\n",
       "  padding-bottom: 0.4em;\n",
       "  background-color: var(--sklearn-color-background);\n",
       "}\n",
       "\n",
       "#sk-container-id-1 div.sk-container {\n",
       "  /* jupyter's `normalize.less` sets `[hidden] { display: none; }`\n",
       "     but bootstrap.min.css set `[hidden] { display: none !important; }`\n",
       "     so we also need the `!important` here to be able to override the\n",
       "     default hidden behavior on the sphinx rendered scikit-learn.org.\n",
       "     See: https://github.com/scikit-learn/scikit-learn/issues/21755 */\n",
       "  display: inline-block !important;\n",
       "  position: relative;\n",
       "}\n",
       "\n",
       "#sk-container-id-1 div.sk-text-repr-fallback {\n",
       "  display: none;\n",
       "}\n",
       "\n",
       "div.sk-parallel-item,\n",
       "div.sk-serial,\n",
       "div.sk-item {\n",
       "  /* draw centered vertical line to link estimators */\n",
       "  background-image: linear-gradient(var(--sklearn-color-text-on-default-background), var(--sklearn-color-text-on-default-background));\n",
       "  background-size: 2px 100%;\n",
       "  background-repeat: no-repeat;\n",
       "  background-position: center center;\n",
       "}\n",
       "\n",
       "/* Parallel-specific style estimator block */\n",
       "\n",
       "#sk-container-id-1 div.sk-parallel-item::after {\n",
       "  content: \"\";\n",
       "  width: 100%;\n",
       "  border-bottom: 2px solid var(--sklearn-color-text-on-default-background);\n",
       "  flex-grow: 1;\n",
       "}\n",
       "\n",
       "#sk-container-id-1 div.sk-parallel {\n",
       "  display: flex;\n",
       "  align-items: stretch;\n",
       "  justify-content: center;\n",
       "  background-color: var(--sklearn-color-background);\n",
       "  position: relative;\n",
       "}\n",
       "\n",
       "#sk-container-id-1 div.sk-parallel-item {\n",
       "  display: flex;\n",
       "  flex-direction: column;\n",
       "}\n",
       "\n",
       "#sk-container-id-1 div.sk-parallel-item:first-child::after {\n",
       "  align-self: flex-end;\n",
       "  width: 50%;\n",
       "}\n",
       "\n",
       "#sk-container-id-1 div.sk-parallel-item:last-child::after {\n",
       "  align-self: flex-start;\n",
       "  width: 50%;\n",
       "}\n",
       "\n",
       "#sk-container-id-1 div.sk-parallel-item:only-child::after {\n",
       "  width: 0;\n",
       "}\n",
       "\n",
       "/* Serial-specific style estimator block */\n",
       "\n",
       "#sk-container-id-1 div.sk-serial {\n",
       "  display: flex;\n",
       "  flex-direction: column;\n",
       "  align-items: center;\n",
       "  background-color: var(--sklearn-color-background);\n",
       "  padding-right: 1em;\n",
       "  padding-left: 1em;\n",
       "}\n",
       "\n",
       "\n",
       "/* Toggleable style: style used for estimator/Pipeline/ColumnTransformer box that is\n",
       "clickable and can be expanded/collapsed.\n",
       "- Pipeline and ColumnTransformer use this feature and define the default style\n",
       "- Estimators will overwrite some part of the style using the `sk-estimator` class\n",
       "*/\n",
       "\n",
       "/* Pipeline and ColumnTransformer style (default) */\n",
       "\n",
       "#sk-container-id-1 div.sk-toggleable {\n",
       "  /* Default theme specific background. It is overwritten whether we have a\n",
       "  specific estimator or a Pipeline/ColumnTransformer */\n",
       "  background-color: var(--sklearn-color-background);\n",
       "}\n",
       "\n",
       "/* Toggleable label */\n",
       "#sk-container-id-1 label.sk-toggleable__label {\n",
       "  cursor: pointer;\n",
       "  display: flex;\n",
       "  width: 100%;\n",
       "  margin-bottom: 0;\n",
       "  padding: 0.5em;\n",
       "  box-sizing: border-box;\n",
       "  text-align: center;\n",
       "  align-items: start;\n",
       "  justify-content: space-between;\n",
       "  gap: 0.5em;\n",
       "}\n",
       "\n",
       "#sk-container-id-1 label.sk-toggleable__label .caption {\n",
       "  font-size: 0.6rem;\n",
       "  font-weight: lighter;\n",
       "  color: var(--sklearn-color-text-muted);\n",
       "}\n",
       "\n",
       "#sk-container-id-1 label.sk-toggleable__label-arrow:before {\n",
       "  /* Arrow on the left of the label */\n",
       "  content: \"▸\";\n",
       "  float: left;\n",
       "  margin-right: 0.25em;\n",
       "  color: var(--sklearn-color-icon);\n",
       "}\n",
       "\n",
       "#sk-container-id-1 label.sk-toggleable__label-arrow:hover:before {\n",
       "  color: var(--sklearn-color-text);\n",
       "}\n",
       "\n",
       "/* Toggleable content - dropdown */\n",
       "\n",
       "#sk-container-id-1 div.sk-toggleable__content {\n",
       "  max-height: 0;\n",
       "  max-width: 0;\n",
       "  overflow: hidden;\n",
       "  text-align: left;\n",
       "  /* unfitted */\n",
       "  background-color: var(--sklearn-color-unfitted-level-0);\n",
       "}\n",
       "\n",
       "#sk-container-id-1 div.sk-toggleable__content.fitted {\n",
       "  /* fitted */\n",
       "  background-color: var(--sklearn-color-fitted-level-0);\n",
       "}\n",
       "\n",
       "#sk-container-id-1 div.sk-toggleable__content pre {\n",
       "  margin: 0.2em;\n",
       "  border-radius: 0.25em;\n",
       "  color: var(--sklearn-color-text);\n",
       "  /* unfitted */\n",
       "  background-color: var(--sklearn-color-unfitted-level-0);\n",
       "}\n",
       "\n",
       "#sk-container-id-1 div.sk-toggleable__content.fitted pre {\n",
       "  /* unfitted */\n",
       "  background-color: var(--sklearn-color-fitted-level-0);\n",
       "}\n",
       "\n",
       "#sk-container-id-1 input.sk-toggleable__control:checked~div.sk-toggleable__content {\n",
       "  /* Expand drop-down */\n",
       "  max-height: 200px;\n",
       "  max-width: 100%;\n",
       "  overflow: auto;\n",
       "}\n",
       "\n",
       "#sk-container-id-1 input.sk-toggleable__control:checked~label.sk-toggleable__label-arrow:before {\n",
       "  content: \"▾\";\n",
       "}\n",
       "\n",
       "/* Pipeline/ColumnTransformer-specific style */\n",
       "\n",
       "#sk-container-id-1 div.sk-label input.sk-toggleable__control:checked~label.sk-toggleable__label {\n",
       "  color: var(--sklearn-color-text);\n",
       "  background-color: var(--sklearn-color-unfitted-level-2);\n",
       "}\n",
       "\n",
       "#sk-container-id-1 div.sk-label.fitted input.sk-toggleable__control:checked~label.sk-toggleable__label {\n",
       "  background-color: var(--sklearn-color-fitted-level-2);\n",
       "}\n",
       "\n",
       "/* Estimator-specific style */\n",
       "\n",
       "/* Colorize estimator box */\n",
       "#sk-container-id-1 div.sk-estimator input.sk-toggleable__control:checked~label.sk-toggleable__label {\n",
       "  /* unfitted */\n",
       "  background-color: var(--sklearn-color-unfitted-level-2);\n",
       "}\n",
       "\n",
       "#sk-container-id-1 div.sk-estimator.fitted input.sk-toggleable__control:checked~label.sk-toggleable__label {\n",
       "  /* fitted */\n",
       "  background-color: var(--sklearn-color-fitted-level-2);\n",
       "}\n",
       "\n",
       "#sk-container-id-1 div.sk-label label.sk-toggleable__label,\n",
       "#sk-container-id-1 div.sk-label label {\n",
       "  /* The background is the default theme color */\n",
       "  color: var(--sklearn-color-text-on-default-background);\n",
       "}\n",
       "\n",
       "/* On hover, darken the color of the background */\n",
       "#sk-container-id-1 div.sk-label:hover label.sk-toggleable__label {\n",
       "  color: var(--sklearn-color-text);\n",
       "  background-color: var(--sklearn-color-unfitted-level-2);\n",
       "}\n",
       "\n",
       "/* Label box, darken color on hover, fitted */\n",
       "#sk-container-id-1 div.sk-label.fitted:hover label.sk-toggleable__label.fitted {\n",
       "  color: var(--sklearn-color-text);\n",
       "  background-color: var(--sklearn-color-fitted-level-2);\n",
       "}\n",
       "\n",
       "/* Estimator label */\n",
       "\n",
       "#sk-container-id-1 div.sk-label label {\n",
       "  font-family: monospace;\n",
       "  font-weight: bold;\n",
       "  display: inline-block;\n",
       "  line-height: 1.2em;\n",
       "}\n",
       "\n",
       "#sk-container-id-1 div.sk-label-container {\n",
       "  text-align: center;\n",
       "}\n",
       "\n",
       "/* Estimator-specific */\n",
       "#sk-container-id-1 div.sk-estimator {\n",
       "  font-family: monospace;\n",
       "  border: 1px dotted var(--sklearn-color-border-box);\n",
       "  border-radius: 0.25em;\n",
       "  box-sizing: border-box;\n",
       "  margin-bottom: 0.5em;\n",
       "  /* unfitted */\n",
       "  background-color: var(--sklearn-color-unfitted-level-0);\n",
       "}\n",
       "\n",
       "#sk-container-id-1 div.sk-estimator.fitted {\n",
       "  /* fitted */\n",
       "  background-color: var(--sklearn-color-fitted-level-0);\n",
       "}\n",
       "\n",
       "/* on hover */\n",
       "#sk-container-id-1 div.sk-estimator:hover {\n",
       "  /* unfitted */\n",
       "  background-color: var(--sklearn-color-unfitted-level-2);\n",
       "}\n",
       "\n",
       "#sk-container-id-1 div.sk-estimator.fitted:hover {\n",
       "  /* fitted */\n",
       "  background-color: var(--sklearn-color-fitted-level-2);\n",
       "}\n",
       "\n",
       "/* Specification for estimator info (e.g. \"i\" and \"?\") */\n",
       "\n",
       "/* Common style for \"i\" and \"?\" */\n",
       "\n",
       ".sk-estimator-doc-link,\n",
       "a:link.sk-estimator-doc-link,\n",
       "a:visited.sk-estimator-doc-link {\n",
       "  float: right;\n",
       "  font-size: smaller;\n",
       "  line-height: 1em;\n",
       "  font-family: monospace;\n",
       "  background-color: var(--sklearn-color-background);\n",
       "  border-radius: 1em;\n",
       "  height: 1em;\n",
       "  width: 1em;\n",
       "  text-decoration: none !important;\n",
       "  margin-left: 0.5em;\n",
       "  text-align: center;\n",
       "  /* unfitted */\n",
       "  border: var(--sklearn-color-unfitted-level-1) 1pt solid;\n",
       "  color: var(--sklearn-color-unfitted-level-1);\n",
       "}\n",
       "\n",
       ".sk-estimator-doc-link.fitted,\n",
       "a:link.sk-estimator-doc-link.fitted,\n",
       "a:visited.sk-estimator-doc-link.fitted {\n",
       "  /* fitted */\n",
       "  border: var(--sklearn-color-fitted-level-1) 1pt solid;\n",
       "  color: var(--sklearn-color-fitted-level-1);\n",
       "}\n",
       "\n",
       "/* On hover */\n",
       "div.sk-estimator:hover .sk-estimator-doc-link:hover,\n",
       ".sk-estimator-doc-link:hover,\n",
       "div.sk-label-container:hover .sk-estimator-doc-link:hover,\n",
       ".sk-estimator-doc-link:hover {\n",
       "  /* unfitted */\n",
       "  background-color: var(--sklearn-color-unfitted-level-3);\n",
       "  color: var(--sklearn-color-background);\n",
       "  text-decoration: none;\n",
       "}\n",
       "\n",
       "div.sk-estimator.fitted:hover .sk-estimator-doc-link.fitted:hover,\n",
       ".sk-estimator-doc-link.fitted:hover,\n",
       "div.sk-label-container:hover .sk-estimator-doc-link.fitted:hover,\n",
       ".sk-estimator-doc-link.fitted:hover {\n",
       "  /* fitted */\n",
       "  background-color: var(--sklearn-color-fitted-level-3);\n",
       "  color: var(--sklearn-color-background);\n",
       "  text-decoration: none;\n",
       "}\n",
       "\n",
       "/* Span, style for the box shown on hovering the info icon */\n",
       ".sk-estimator-doc-link span {\n",
       "  display: none;\n",
       "  z-index: 9999;\n",
       "  position: relative;\n",
       "  font-weight: normal;\n",
       "  right: .2ex;\n",
       "  padding: .5ex;\n",
       "  margin: .5ex;\n",
       "  width: min-content;\n",
       "  min-width: 20ex;\n",
       "  max-width: 50ex;\n",
       "  color: var(--sklearn-color-text);\n",
       "  box-shadow: 2pt 2pt 4pt #999;\n",
       "  /* unfitted */\n",
       "  background: var(--sklearn-color-unfitted-level-0);\n",
       "  border: .5pt solid var(--sklearn-color-unfitted-level-3);\n",
       "}\n",
       "\n",
       ".sk-estimator-doc-link.fitted span {\n",
       "  /* fitted */\n",
       "  background: var(--sklearn-color-fitted-level-0);\n",
       "  border: var(--sklearn-color-fitted-level-3);\n",
       "}\n",
       "\n",
       ".sk-estimator-doc-link:hover span {\n",
       "  display: block;\n",
       "}\n",
       "\n",
       "/* \"?\"-specific style due to the `<a>` HTML tag */\n",
       "\n",
       "#sk-container-id-1 a.estimator_doc_link {\n",
       "  float: right;\n",
       "  font-size: 1rem;\n",
       "  line-height: 1em;\n",
       "  font-family: monospace;\n",
       "  background-color: var(--sklearn-color-background);\n",
       "  border-radius: 1rem;\n",
       "  height: 1rem;\n",
       "  width: 1rem;\n",
       "  text-decoration: none;\n",
       "  /* unfitted */\n",
       "  color: var(--sklearn-color-unfitted-level-1);\n",
       "  border: var(--sklearn-color-unfitted-level-1) 1pt solid;\n",
       "}\n",
       "\n",
       "#sk-container-id-1 a.estimator_doc_link.fitted {\n",
       "  /* fitted */\n",
       "  border: var(--sklearn-color-fitted-level-1) 1pt solid;\n",
       "  color: var(--sklearn-color-fitted-level-1);\n",
       "}\n",
       "\n",
       "/* On hover */\n",
       "#sk-container-id-1 a.estimator_doc_link:hover {\n",
       "  /* unfitted */\n",
       "  background-color: var(--sklearn-color-unfitted-level-3);\n",
       "  color: var(--sklearn-color-background);\n",
       "  text-decoration: none;\n",
       "}\n",
       "\n",
       "#sk-container-id-1 a.estimator_doc_link.fitted:hover {\n",
       "  /* fitted */\n",
       "  background-color: var(--sklearn-color-fitted-level-3);\n",
       "}\n",
       "</style><div id=\"sk-container-id-1\" class=\"sk-top-container\"><div class=\"sk-text-repr-fallback\"><pre>RandomForestClassifier()</pre><b>In a Jupyter environment, please rerun this cell to show the HTML representation or trust the notebook. <br />On GitHub, the HTML representation is unable to render, please try loading this page with nbviewer.org.</b></div><div class=\"sk-container\" hidden><div class=\"sk-item\"><div class=\"sk-estimator fitted sk-toggleable\"><input class=\"sk-toggleable__control sk-hidden--visually\" id=\"sk-estimator-id-1\" type=\"checkbox\" checked><label for=\"sk-estimator-id-1\" class=\"sk-toggleable__label fitted sk-toggleable__label-arrow\"><div><div>RandomForestClassifier</div></div><div><a class=\"sk-estimator-doc-link fitted\" rel=\"noreferrer\" target=\"_blank\" href=\"https://scikit-learn.org/1.6/modules/generated/sklearn.ensemble.RandomForestClassifier.html\">?<span>Documentation for RandomForestClassifier</span></a><span class=\"sk-estimator-doc-link fitted\">i<span>Fitted</span></span></div></label><div class=\"sk-toggleable__content fitted\"><pre>RandomForestClassifier()</pre></div> </div></div></div></div>"
      ],
      "text/plain": [
       "RandomForestClassifier()"
      ]
     },
     "execution_count": 15,
     "metadata": {},
     "output_type": "execute_result"
    }
   ],
   "source": [
    "from sklearn.ensemble import RandomForestClassifier\n",
    "\n",
    "# Instantiate and train\n",
    "best_model = RandomForestClassifier()\n",
    "best_model.fit(x_train, y_train)\n"
   ]
  },
  {
   "cell_type": "code",
   "execution_count": 16,
   "id": "ceb4b445-1d90-4a2e-86b5-f95080a41492",
   "metadata": {},
   "outputs": [
    {
     "name": "stdout",
     "output_type": "stream",
     "text": [
      "Accuracy: 0.991869918699187\n",
      "Classification Report:\n",
      "               precision    recall  f1-score   support\n",
      "\n",
      "           0       0.99      1.00      0.99       291\n",
      "           1       1.00      0.98      0.99       201\n",
      "\n",
      "    accuracy                           0.99       492\n",
      "   macro avg       0.99      0.99      0.99       492\n",
      "weighted avg       0.99      0.99      0.99       492\n",
      "\n"
     ]
    }
   ],
   "source": [
    "from sklearn.metrics import classification_report, accuracy_score\n",
    "\n",
    "y_pred = best_model.predict(x_test)\n",
    "\n",
    "print(\"Accuracy:\", accuracy_score(y_test, y_pred))\n",
    "print(\"Classification Report:\\n\", classification_report(y_test, y_pred))\n"
   ]
  },
  {
   "cell_type": "code",
   "execution_count": 17,
   "id": "4423e7dd-f8c9-4636-9988-b5d9a0459f18",
   "metadata": {},
   "outputs": [
    {
     "data": {
      "text/plain": [
       "['random_forest_model.pkl']"
      ]
     },
     "execution_count": 17,
     "metadata": {},
     "output_type": "execute_result"
    }
   ],
   "source": [
    "import joblib\n",
    "\n",
    "joblib.dump(best_model, 'random_forest_model.pkl')\n"
   ]
  },
  {
   "cell_type": "code",
   "execution_count": null,
   "id": "a0ee9b58-68e8-43a7-8163-a4a75e49f762",
   "metadata": {},
   "outputs": [],
   "source": [
    "import json\n",
    "\n",
    "# Suppose these are your final model input columns\n",
    "columns = []\n",
    "model_columns = list(x.columns)\n",
    "\n",
    "# Save to JSON file\n",
    "with open(\"model/model_columns.json\", \"w\") as f:\n",
    "    json.dump(model_columns, f)\n"
   ]
  }
 ],
 "metadata": {
  "kaggle": {
   "accelerator": "none",
   "dataSources": [
    {
     "datasetId": 4518323,
     "sourceId": 7732204,
     "sourceType": "datasetVersion"
    }
   ],
   "dockerImageVersionId": 30684,
   "isGpuEnabled": false,
   "isInternetEnabled": true,
   "language": "python",
   "sourceType": "notebook"
  },
  "kernelspec": {
   "display_name": "Python 3 (ipykernel)",
   "language": "python",
   "name": "python3"
  },
  "language_info": {
   "codemirror_mode": {
    "name": "ipython",
    "version": 3
   },
   "file_extension": ".py",
   "mimetype": "text/x-python",
   "name": "python",
   "nbconvert_exporter": "python",
   "pygments_lexer": "ipython3",
   "version": "3.9.13"
  },
  "papermill": {
   "default_parameters": {},
   "duration": 32.072419,
   "end_time": "2024-04-12T22:08:48.618593",
   "environment_variables": {},
   "exception": null,
   "input_path": "__notebook__.ipynb",
   "output_path": "__notebook__.ipynb",
   "parameters": {},
   "start_time": "2024-04-12T22:08:16.546174",
   "version": "2.5.0"
  }
 },
 "nbformat": 4,
 "nbformat_minor": 5
}
